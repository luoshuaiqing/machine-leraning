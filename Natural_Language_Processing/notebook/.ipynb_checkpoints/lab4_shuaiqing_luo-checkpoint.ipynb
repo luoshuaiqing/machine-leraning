{
 "cells": [
  {
   "cell_type": "code",
   "execution_count": 274,
   "metadata": {},
   "outputs": [],
   "source": [
    "import numpy as np\n",
    "import matplotlib.pyplot as plt\n",
    "import pandas as pd\n",
    "import seaborn as sns\n",
    "from sklearn import datasets\n",
    "\n",
    "\n",
    "data_set_path = \"../data/YouTube-Spam-Collection-v1/Youtube04-Eminem.csv\"\n",
    "\n",
    "\n",
    "head_set = ['comment_ID', 'author', 'date', 'class']\n",
    "\n",
    "# (b) Select the first ⌊0.8H⌋ of H hams and the first ⌊0.8S⌋ of S spams as your training set and the rest as your test set.\n",
    "df = pd.read_csv(data_set_path)\n",
    "class_1_data = df.loc[df['CLASS']==1]\n",
    "class_0_data = df.loc[df['CLASS']==0]\n",
    "\n",
    "\n",
    "\n",
    "\n",
    "first_80_0 = class_0_data[:int(0.8*class_0_data.shape[0])] \n",
    "first_80_0_index = df.index[df[\"CLASS\"]==0][:int(0.8*class_0_data.shape[0])]\n",
    "\n",
    "first_80_1 = class_1_data[:int(0.8*class_1_data.shape[0])] \n",
    "first_80_1_index = df.index[df[\"CLASS\"]==1][:int(0.8*class_1_data.shape[0])]\n",
    "\n",
    "training_set = pd.concat([first_80_1, first_80_0], ignore_index=True)\n",
    "\n",
    "training_set_index = first_80_1_index.append(first_80_0_index)\n",
    "\n",
    "last_20_0 = class_0_data[int(0.8*class_0_data.shape[0]):] \n",
    "last_20_0_index = df.index[df[\"CLASS\"]==0][int(0.8*class_0_data.shape[0]):]\n",
    "\n",
    "last_20_1 = class_1_data[int(0.8*class_1_data.shape[0]):] \n",
    "last_20_1_index = df.index[df[\"CLASS\"]==1][int(0.8*class_1_data.shape[0]):]\n",
    "\n",
    "test_set = pd.concat([last_20_1, last_20_0], ignore_index=True)\n",
    "test_set_index = last_20_1_index.append(last_20_0_index)\n",
    "\n"
   ]
  },
  {
   "cell_type": "markdown",
   "metadata": {},
   "source": [
    "#  c) Represent each comment using TF-IDF features. \n",
    "# Consider each comment a document and the whole set of comments in the file (e.g. Eminem) as the corpus.\n",
    "# Do NOT remove stop words"
   ]
  },
  {
   "cell_type": "code",
   "execution_count": 275,
   "metadata": {},
   "outputs": [
    {
     "name": "stdout",
     "output_type": "stream",
     "text": [
      "  (0, 1574)\t0.448748745207134\n",
      "  (0, 879)\t0.22353912884839186\n",
      "  (0, 1404)\t0.17574605241354538\n",
      "  (0, 1358)\t0.42038025682419533\n",
      "  (0, 574)\t0.37188400561498913\n",
      "  (0, 839)\t0.448748745207134\n",
      "  (0, 58)\t0.448748745207134\n",
      "  (1, 1057)\t0.22144555159636306\n",
      "  (1, 1500)\t0.16951575688584694\n",
      "  (1, 1461)\t0.18980968651165478\n",
      "  (1, 1230)\t0.1835148501981083\n",
      "  (1, 1387)\t0.20744645828410171\n",
      "  (1, 1004)\t0.16951575688584694\n",
      "  (1, 1378)\t0.08215930967749893\n",
      "  (1, 982)\t0.16258739798483482\n",
      "  (1, 1172)\t0.1735823354243762\n",
      "  (1, 1479)\t0.14194647033966792\n",
      "  (1, 1592)\t0.10701992481413311\n",
      "  (1, 100)\t0.22144555159636306\n",
      "  (1, 32)\t0.22144555159636306\n",
      "  (1, 309)\t0.24931339317316006\n",
      "  (1, 591)\t0.18980968651165478\n",
      "  (1, 1073)\t0.18980968651165478\n",
      "  (1, 686)\t0.1835148501981083\n",
      "  (1, 684)\t0.1781926419293893\n",
      "  :\t:\n",
      "  (354, 436)\t0.3392693505292661\n",
      "  (354, 1378)\t0.26045743988914516\n",
      "  (355, 599)\t0.4041936243226323\n",
      "  (355, 1097)\t0.4041936243226323\n",
      "  (355, 134)\t0.4041936243226323\n",
      "  (355, 1286)\t0.3786417709558628\n",
      "  (355, 137)\t0.29676274455248947\n",
      "  (355, 607)\t0.2912794072649648\n",
      "  (355, 997)\t0.3786417709558628\n",
      "  (355, 800)\t0.18104723856418145\n",
      "  (355, 1391)\t0.13211146242075014\n",
      "  (356, 1398)\t0.3446461332754518\n",
      "  (356, 1236)\t0.31459030942919913\n",
      "  (356, 1389)\t0.4218412892157045\n",
      "  (356, 632)\t0.31459030942919913\n",
      "  (356, 1587)\t0.18958586221755946\n",
      "  (356, 696)\t0.2644784838673112\n",
      "  (356, 213)\t0.4218412892157045\n",
      "  (356, 1479)\t0.33603453767429925\n",
      "  (356, 1391)\t0.17134732178402784\n",
      "  (356, 1454)\t0.28144979640489953\n",
      "  (357, 789)\t0.6149275582514625\n",
      "  (357, 315)\t0.5095985804262099\n",
      "  (357, 1413)\t0.5270785807964018\n",
      "  (357, 1067)\t0.29045060612113865\n"
     ]
    }
   ],
   "source": [
    "import re\n",
    "text = []\n",
    "\n",
    "from sklearn.feature_extraction.text import TfidfVectorizer\n",
    "\n",
    "# create the transform\n",
    "vectorizer = TfidfVectorizer()\n",
    "\n",
    "result = vectorizer.fit_transform(df[\"CONTENT\"])\n",
    "\n",
    "training_idf = result[training_set_index]\n",
    "test_idf = result[test_set_index]\n",
    "\n",
    "print(training_idf)"
   ]
  },
  {
   "cell_type": "markdown",
   "metadata": {},
   "source": [
    "d) i. Determine λ using five fold cross-validation on your training set. Consider\n",
    "log10 λ ∈ {−5,−4,...,5}.\n"
   ]
  },
  {
   "cell_type": "code",
   "execution_count": 276,
   "metadata": {},
   "outputs": [
    {
     "name": "stdout",
     "output_type": "stream",
     "text": [
      "best lambda:  0.01\n"
     ]
    }
   ],
   "source": [
    "from sklearn.linear_model import LogisticRegressionCV\n",
    "X = training_idf\n",
    "y = training_set.iloc[:,4]\n",
    "lambdas = []\n",
    "for i in range(-5, 6, 1):\n",
    "    lambdas.append(pow(10,i))\n",
    "\n",
    "clf = LogisticRegressionCV(Cs=lambdas, cv=5, random_state=32525121, multi_class='auto', penalty='l2').fit(X, y)\n",
    "\n",
    "\n",
    "\n",
    "print(\"best lambda: \", 1 / clf.C_[0])\n",
    "\n",
    "\n",
    "\n",
    "\n",
    "\n"
   ]
  },
  {
   "cell_type": "markdown",
   "metadata": {},
   "source": [
    "d) ii. Train L2-penalized Logistic Regression using the λ you found in 1(e)i. Cal- culate the confusion matrix, accuracy, precision, recall, and F1 score as well as the ROC curve and AUC for your training set."
   ]
  },
  {
   "cell_type": "code",
   "execution_count": 277,
   "metadata": {},
   "outputs": [
    {
     "name": "stdout",
     "output_type": "stream",
     "text": [
      "[[162   0]\n",
      " [  0 196]]\n"
     ]
    },
    {
     "data": {
      "image/png": "[encoded data removed]",
      "text/plain": [
       "<Figure size 432x288 with 1 Axes>"
      ]
     },
     "metadata": {
      "needs_background": "light"
     },
     "output_type": "display_data"
    },
    {
     "name": "stdout",
     "output_type": "stream",
     "text": [
      "accuracy:  1.0\n",
      "precision: 1.0\n",
      "recall: 1.0\n",
      "f1: 1.0\n",
      "auc: 1.0\n"
     ]
    }
   ],
   "source": [
    "from sklearn.metrics import confusion_matrix\n",
    "import scikitplot as skplt\n",
    "import sklearn.metrics as metrics\n",
    "import matplotlib.pyplot as plt\n",
    "\n",
    "clf = LogisticRegressionCV(Cs=[clf.C_[0]], cv=5, random_state=1, multi_class='auto', penalty='l2').fit(X, y)\n",
    "\n",
    "y_pred = clf.predict(X)\n",
    "y_true = training_set.iloc[:, 4]\n",
    "\n",
    "confusionMatrix = confusion_matrix(y_true, y_pred)\n",
    "tn, fp, fn, tp = confusion_matrix(y_true, y_pred).ravel()\n",
    "\n",
    "print(confusionMatrix)\n",
    "\n",
    "\n",
    "# ROC curve\n",
    "y_probas = clf.predict_proba(X)\n",
    "y_probas = y_probas[:, 1]\n",
    "\n",
    "fpr, tpr, threshold = metrics.roc_curve(y_true, y_probas)\n",
    "roc_auc = metrics.auc(fpr, tpr)\n",
    "\n",
    "plt.plot(fpr, tpr, 'b', label = 'AUC = %0.3f' % roc_auc)\n",
    "plt.legend(loc = 'lower right')\n",
    "plt.plot([0, 1], [0, 1],'r--')\n",
    "\n",
    "plt.ylabel('True Positive Rate')\n",
    "plt.xlabel('False Positive Rate')\n",
    "plt.show()\n",
    "\n",
    "# accuracy\n",
    "accuracy = (tp + tn) / (tp + tn + fp + fn)\n",
    "print(\"accuracy: \", accuracy)\n",
    "\n",
    "# precision\n",
    "precision = tp/(tp+fp)\n",
    "print(\"precision:\", precision)\n",
    "\n",
    "# recall\n",
    "recall = tp / (tp + fn)\n",
    "print(\"recall:\", recall)\n",
    "\n",
    "# f1\n",
    "f1 = 2 * ((precision * recall) / (precision + recall))\n",
    "print(\"f1:\", f1)\n",
    "\n",
    "# AUC\n",
    "auc = metrics.roc_auc_score(y_true, y_probas)\n",
    "print(\"auc:\", auc)\n"
   ]
  },
  {
   "cell_type": "markdown",
   "metadata": {},
   "source": [
    "d) iii. Test the algorithm on the test set and calculate the confusion matrix, accu- racy, precision, recall, and F1 score as well as the ROC curve and AUC for the test set. Which one is more important in this application, precision or recall?"
   ]
  },
  {
   "cell_type": "code",
   "execution_count": 278,
   "metadata": {},
   "outputs": [
    {
     "name": "stdout",
     "output_type": "stream",
     "text": [
      "[[40  1]\n",
      " [ 1 48]]\n"
     ]
    },
    {
     "data": {
      "image/png": "[encoded data removed]",
      "text/plain": [
       "<Figure size 432x288 with 1 Axes>"
      ]
     },
     "metadata": {
      "needs_background": "light"
     },
     "output_type": "display_data"
    },
    {
     "name": "stdout",
     "output_type": "stream",
     "text": [
      "accuracy:  0.9777777777777777\n",
      "precision: 0.9795918367346939\n",
      "recall: 0.9795918367346939\n",
      "f1: 0.9795918367346939\n",
      "auc: 0.9950223992035839\n",
      "Precision is more important in this application, because we don't want to classify normal/good information as spam, which may cause users to miss important information.\n"
     ]
    }
   ],
   "source": [
    "from sklearn.metrics import confusion_matrix\n",
    "import scikitplot as skplt\n",
    "import sklearn.metrics as metrics\n",
    "import matplotlib.pyplot as plt\n",
    "\n",
    "\n",
    "X = test_idf\n",
    "y = test_set.iloc[:,4]\n",
    "\n",
    "y_pred = clf.predict(X)\n",
    "y_true = test_set.iloc[:, 4]\n",
    "\n",
    "confusionMatrix = confusion_matrix(y_true, y_pred)\n",
    "tn, fp, fn, tp = confusion_matrix(y_true, y_pred).ravel()\n",
    "\n",
    "print(confusionMatrix)\n",
    "\n",
    "\n",
    "# ROC curve\n",
    "y_probas = clf.predict_proba(X)\n",
    "y_probas = y_probas[:, 1]\n",
    "\n",
    "fpr, tpr, threshold = metrics.roc_curve(y_true, y_probas)\n",
    "roc_auc = metrics.auc(fpr, tpr)\n",
    "\n",
    "plt.plot(fpr, tpr, 'b', label = 'AUC = %0.3f' % roc_auc)\n",
    "plt.legend(loc = 'lower right')\n",
    "plt.plot([0, 1], [0, 1],'r--')\n",
    "\n",
    "plt.ylabel('True Positive Rate')\n",
    "plt.xlabel('False Positive Rate')\n",
    "plt.show()\n",
    "\n",
    "# accuracy\n",
    "accuracy = (tp + tn) / (tp + tn + fp + fn)\n",
    "print(\"accuracy: \", accuracy)\n",
    "\n",
    "# precision\n",
    "precision = tp/(tp+fp)\n",
    "print(\"precision:\", precision)\n",
    "\n",
    "# recall\n",
    "recall = tp / (tp + fn)\n",
    "print(\"recall:\", recall)\n",
    "\n",
    "# f1\n",
    "f1 = 2 * ((precision * recall) / (precision + recall))\n",
    "print(\"f1:\", f1)\n",
    "\n",
    "# AUC\n",
    "auc = metrics.roc_auc_score(y_true, y_probas)\n",
    "print(\"auc:\", auc)\n",
    "\n",
    "\n",
    "print(\"Precision is more important in this application, because we don't want to classify normal/good information as spam, which may cause users to miss important information.\")"
   ]
  },
  {
   "cell_type": "markdown",
   "metadata": {},
   "source": [
    "(e) L1-penalized Logistic Regression\n",
    "i. Determine λ using five fold cross-validation on your training set. Consider\n",
    "log10 λ ∈ {−5,−4,...,5}.\n"
   ]
  },
  {
   "cell_type": "code",
   "execution_count": 279,
   "metadata": {},
   "outputs": [
    {
     "name": "stdout",
     "output_type": "stream",
     "text": [
      "best lambda:  0.001\n"
     ]
    }
   ],
   "source": [
    "from sklearn.linear_model import LogisticRegressionCV\n",
    "X = training_idf\n",
    "y = training_set.iloc[:,4]\n",
    "lambdas = []\n",
    "for i in range(-5, 6, 1):\n",
    "    lambdas.append(pow(10,i))\n",
    "\n",
    "clf = LogisticRegressionCV(Cs=lambdas, cv=5, random_state=32525121, multi_class='auto', penalty='l1', solver='liblinear').fit(X, y)\n",
    "\n",
    "\n",
    "\n",
    "print(\"best lambda: \", 1 / clf.C_[0])"
   ]
  },
  {
   "cell_type": "code",
   "execution_count": 280,
   "metadata": {},
   "outputs": [
    {
     "name": "stdout",
     "output_type": "stream",
     "text": [
      "[[162   0]\n",
      " [  0 196]]\n"
     ]
    },
    {
     "data": {
      "image/png": "[encoded data removed]",
      "text/plain": [
       "<Figure size 432x288 with 1 Axes>"
      ]
     },
     "metadata": {
      "needs_background": "light"
     },
     "output_type": "display_data"
    },
    {
     "name": "stdout",
     "output_type": "stream",
     "text": [
      "accuracy:  1.0\n",
      "precision: 1.0\n",
      "recall: 1.0\n",
      "f1: 1.0\n",
      "auc: 1.0\n"
     ]
    }
   ],
   "source": [
    "from sklearn.metrics import confusion_matrix\n",
    "import scikitplot as skplt\n",
    "import sklearn.metrics as metrics\n",
    "import matplotlib.pyplot as plt\n",
    "\n",
    "clf = LogisticRegressionCV(Cs=[clf.C_[0]], cv=5, random_state=32525121, multi_class='auto', penalty='l1', solver='liblinear').fit(X, y)\n",
    "\n",
    "y_pred = clf.predict(X)\n",
    "y_true = training_set.iloc[:, 4]\n",
    "\n",
    "confusionMatrix = confusion_matrix(y_true, y_pred)\n",
    "tn, fp, fn, tp = confusion_matrix(y_true, y_pred).ravel()\n",
    "\n",
    "print(confusionMatrix)\n",
    "\n",
    "\n",
    "# ROC curve\n",
    "y_probas = clf.predict_proba(X)\n",
    "y_probas = y_probas[:, 1]\n",
    "\n",
    "fpr, tpr, threshold = metrics.roc_curve(y_true, y_probas)\n",
    "roc_auc = metrics.auc(fpr, tpr)\n",
    "\n",
    "plt.plot(fpr, tpr, 'b', label = 'AUC = %0.3f' % roc_auc)\n",
    "plt.legend(loc = 'lower right')\n",
    "plt.plot([0, 1], [0, 1],'r--')\n",
    "\n",
    "plt.ylabel('True Positive Rate')\n",
    "plt.xlabel('False Positive Rate')\n",
    "plt.show()\n",
    "\n",
    "# accuracy\n",
    "accuracy = (tp + tn) / (tp + tn + fp + fn)\n",
    "print(\"accuracy: \", accuracy)\n",
    "\n",
    "# precision\n",
    "precision = tp/(tp+fp)\n",
    "print(\"precision:\", precision)\n",
    "\n",
    "# recall\n",
    "recall = tp / (tp + fn)\n",
    "print(\"recall:\", recall)\n",
    "\n",
    "# f1\n",
    "f1 = 2 * ((precision * recall) / (precision + recall))\n",
    "print(\"f1:\", f1)\n",
    "\n",
    "# AUC\n",
    "auc = metrics.roc_auc_score(y_true, y_probas)\n",
    "print(\"auc:\", auc)\n"
   ]
  },
  {
   "cell_type": "code",
   "execution_count": 285,
   "metadata": {},
   "outputs": [
    {
     "name": "stdout",
     "output_type": "stream",
     "text": [
      "[[41  0]\n",
      " [ 6 43]]\n"
     ]
    },
    {
     "data": {
      "image/png": "[encoded data removed]",
      "text/plain": [
       "<Figure size 432x288 with 1 Axes>"
      ]
     },
     "metadata": {
      "needs_background": "light"
     },
     "output_type": "display_data"
    },
    {
     "name": "stdout",
     "output_type": "stream",
     "text": [
      "accuracy:  0.9333333333333333\n",
      "precision: 1.0\n",
      "recall: 0.8775510204081632\n",
      "f1: 0.9347826086956522\n",
      "auc: 0.9965156794425087\n"
     ]
    }
   ],
   "source": [
    "from sklearn.metrics import confusion_matrix\n",
    "import scikitplot as skplt\n",
    "import sklearn.metrics as metrics\n",
    "import matplotlib.pyplot as plt\n",
    "\n",
    "\n",
    "X = test_idf\n",
    "y = test_set.iloc[:,4]\n",
    "\n",
    "y_pred = clf.predict(X)\n",
    "y_true = test_set.iloc[:, 4]\n",
    "\n",
    "confusionMatrix = confusion_matrix(y_true, y_pred)\n",
    "tn, fp, fn, tp = confusion_matrix(y_true, y_pred).ravel()\n",
    "\n",
    "print(confusionMatrix)\n",
    "\n",
    "\n",
    "# ROC curve\n",
    "y_probas = clf.predict_proba(X)\n",
    "y_probas = y_probas[:, 1]\n",
    "\n",
    "fpr, tpr, threshold = metrics.roc_curve(y_true, y_probas)\n",
    "roc_auc = metrics.auc(fpr, tpr)\n",
    "\n",
    "plt.plot(fpr, tpr, 'b', label = 'AUC = %0.3f' % roc_auc)\n",
    "plt.legend(loc = 'lower right')\n",
    "plt.plot([0, 1], [0, 1],'r--')\n",
    "\n",
    "plt.ylabel('True Positive Rate')\n",
    "plt.xlabel('False Positive Rate')\n",
    "plt.show()\n",
    "\n",
    "# accuracy\n",
    "accuracy = (tp + tn) / (tp + tn + fp + fn)\n",
    "print(\"accuracy: \", accuracy)\n",
    "\n",
    "# precision\n",
    "precision = tp/(tp+fp)\n",
    "print(\"precision:\", precision)\n",
    "\n",
    "# recall\n",
    "recall = tp / (tp + fn)\n",
    "print(\"recall:\", recall)\n",
    "\n",
    "# f1\n",
    "f1 = 2 * ((precision * recall) / (precision + recall))\n",
    "print(\"f1:\", f1)\n",
    "\n",
    "# AUC\n",
    "auc = metrics.roc_auc_score(y_true, y_probas)\n",
    "print(\"auc:\", auc)\n"
   ]
  },
  {
   "cell_type": "markdown",
   "metadata": {},
   "source": [
    "(f) Binary Classification Using Na ̈ıve Bayes’ Classifiers"
   ]
  },
  {
   "cell_type": "code",
   "execution_count": 292,
   "metadata": {},
   "outputs": [
    {
     "name": "stdout",
     "output_type": "stream",
     "text": [
      "[[162   0]\n",
      " [  1 195]]\n"
     ]
    },
    {
     "data": {
      "image/png": "[encoded data removed]",
      "text/plain": [
       "<Figure size 432x288 with 1 Axes>"
      ]
     },
     "metadata": {
      "needs_background": "light"
     },
     "output_type": "display_data"
    },
    {
     "name": "stdout",
     "output_type": "stream",
     "text": [
      "accuracy:  0.9972067039106145\n",
      "precision: 1.0\n",
      "recall: 0.9948979591836735\n",
      "f1: 0.9974424552429668\n",
      "auc: 0.9974489795918368\n"
     ]
    }
   ],
   "source": [
    "# 1) for training set\n",
    "from sklearn.naive_bayes import GaussianNB\n",
    "gnb = GaussianNB()\n",
    "x = training_idf.toarray()\n",
    "y = training_set.iloc[:,4]\n",
    "\n",
    "gnb = gnb.fit(x, y)\n",
    "\n",
    "y_pred = gnb.predict(x)\n",
    "\n",
    "\n",
    "# confusion matrix\n",
    "from sklearn.metrics import confusion_matrix\n",
    "y_true = y\n",
    "\n",
    "\n",
    "confusionMatrix = confusion_matrix(y_true, y_pred)\n",
    "tn, fp, fn, tp = confusion_matrix(y_true, y_pred).ravel()\n",
    "print(confusionMatrix)\n",
    "\n",
    "\n",
    "\n",
    "# ROC curve\n",
    "y_probas = gnb.predict_proba(x)\n",
    "y_probas = y_probas[:,1]\n",
    "fpr, tpr, threshold = metrics.roc_curve(y_true, y_probas)\n",
    "roc_auc = metrics.auc(fpr, tpr)\n",
    "\n",
    "plt.plot(fpr, tpr, 'b', label = 'AUC = %0.3f' % roc_auc)\n",
    "plt.legend(loc = 'lower right')\n",
    "plt.plot([0, 1], [0, 1],'r--')\n",
    "\n",
    "plt.ylabel('True Positive Rate')\n",
    "plt.xlabel('False Positive Rate')\n",
    "plt.show()\n",
    "\n",
    "# accuracy\n",
    "accuracy = (tp + tn) / (tp + tn + fp + fn)\n",
    "print(\"accuracy: \", accuracy)\n",
    "\n",
    "# precision\n",
    "precision = tp/(tp+fp)\n",
    "print(\"precision:\", precision)\n",
    "\n",
    "# recall\n",
    "recall = tp / (tp + fn)\n",
    "print(\"recall:\", recall)\n",
    "\n",
    "# f1\n",
    "f1 = 2 * ((precision * recall) / (precision + recall))\n",
    "print(\"f1:\", f1)\n",
    "\n",
    "# AUC\n",
    "auc = metrics.roc_auc_score(y_true, y_probas)\n",
    "print(\"auc:\", auc)\n",
    "\n"
   ]
  },
  {
   "cell_type": "code",
   "execution_count": 293,
   "metadata": {},
   "outputs": [
    {
     "name": "stdout",
     "output_type": "stream",
     "text": [
      "[[35  6]\n",
      " [ 1 48]]\n"
     ]
    },
    {
     "data": {
      "image/png": "[encoded data removed]",
      "text/plain": [
       "<Figure size 432x288 with 1 Axes>"
      ]
     },
     "metadata": {
      "needs_background": "light"
     },
     "output_type": "display_data"
    },
    {
     "name": "stdout",
     "output_type": "stream",
     "text": [
      "accuracy:  0.9222222222222223\n",
      "precision: 0.8888888888888888\n",
      "recall: 0.9795918367346939\n",
      "f1: 0.9320388349514563\n",
      "auc: 0.9166251866600298\n"
     ]
    }
   ],
   "source": [
    "# 1) for test set\n",
    "from sklearn.naive_bayes import GaussianNB\n",
    "x = test_idf.toarray()\n",
    "y = test_set.iloc[:,4]\n",
    "\n",
    "\n",
    "y_pred = gnb.predict(x)\n",
    "\n",
    "\n",
    "# confusion matrix\n",
    "from sklearn.metrics import confusion_matrix\n",
    "y_true = y\n",
    "\n",
    "\n",
    "confusionMatrix = confusion_matrix(y_true, y_pred)\n",
    "tn, fp, fn, tp = confusion_matrix(y_true, y_pred).ravel()\n",
    "print(confusionMatrix)\n",
    "\n",
    "\n",
    "\n",
    "# ROC curve\n",
    "y_probas = gnb.predict_proba(x)\n",
    "y_probas = y_probas[:,1]\n",
    "fpr, tpr, threshold = metrics.roc_curve(y_true, y_probas)\n",
    "roc_auc = metrics.auc(fpr, tpr)\n",
    "\n",
    "plt.plot(fpr, tpr, 'b', label = 'AUC = %0.3f' % roc_auc)\n",
    "plt.legend(loc = 'lower right')\n",
    "plt.plot([0, 1], [0, 1],'r--')\n",
    "\n",
    "plt.ylabel('True Positive Rate')\n",
    "plt.xlabel('False Positive Rate')\n",
    "plt.show()\n",
    "\n",
    "# accuracy\n",
    "accuracy = (tp + tn) / (tp + tn + fp + fn)\n",
    "print(\"accuracy: \", accuracy)\n",
    "\n",
    "# precision\n",
    "precision = tp/(tp+fp)\n",
    "print(\"precision:\", precision)\n",
    "\n",
    "# recall\n",
    "recall = tp / (tp + fn)\n",
    "print(\"recall:\", recall)\n",
    "\n",
    "# f1\n",
    "f1 = 2 * ((precision * recall) / (precision + recall))\n",
    "print(\"f1:\", f1)\n",
    "\n",
    "# AUC\n",
    "auc = metrics.roc_auc_score(y_true, y_probas)\n",
    "print(\"auc:\", auc)\n",
    "\n"
   ]
  },
  {
   "cell_type": "markdown",
   "metadata": {},
   "source": [
    "(g) (Extra Credit, 5 points) Repeat 1(f)i using multinomial priors."
   ]
  },
  {
   "cell_type": "code",
   "execution_count": 294,
   "metadata": {},
   "outputs": [
    {
     "name": "stdout",
     "output_type": "stream",
     "text": [
      "[[154   8]\n",
      " [  0 196]]\n"
     ]
    },
    {
     "data": {
      "image/png": "[encoded data removed]",
      "text/plain": [
       "<Figure size 432x288 with 1 Axes>"
      ]
     },
     "metadata": {
      "needs_background": "light"
     },
     "output_type": "display_data"
    },
    {
     "name": "stdout",
     "output_type": "stream",
     "text": [
      "accuracy:  0.9776536312849162\n",
      "precision: 0.9607843137254902\n",
      "recall: 1.0\n",
      "f1: 0.98\n",
      "auc: 0.9974489795918368\n"
     ]
    }
   ],
   "source": [
    "from sklearn.naive_bayes import MultinomialNB\n",
    "# 1) for training set\n",
    "clf = MultinomialNB()\n",
    "x = training_idf.toarray()\n",
    "y = training_set.iloc[:,4]\n",
    "\n",
    "clf = clf.fit(x, y)\n",
    "\n",
    "y_pred = clf.predict(x)\n",
    "\n",
    "\n",
    "# confusion matrix\n",
    "from sklearn.metrics import confusion_matrix\n",
    "y_true = y\n",
    "\n",
    "\n",
    "confusionMatrix = confusion_matrix(y_true, y_pred)\n",
    "tn, fp, fn, tp = confusion_matrix(y_true, y_pred).ravel()\n",
    "print(confusionMatrix)\n",
    "\n",
    "\n",
    "\n",
    "# ROC curve\n",
    "y_probas = gnb.predict_proba(x)\n",
    "y_probas = y_probas[:,1]\n",
    "fpr, tpr, threshold = metrics.roc_curve(y_true, y_probas)\n",
    "roc_auc = metrics.auc(fpr, tpr)\n",
    "\n",
    "plt.plot(fpr, tpr, 'b', label = 'AUC = %0.3f' % roc_auc)\n",
    "plt.legend(loc = 'lower right')\n",
    "plt.plot([0, 1], [0, 1],'r--')\n",
    "\n",
    "plt.ylabel('True Positive Rate')\n",
    "plt.xlabel('False Positive Rate')\n",
    "plt.show()\n",
    "\n",
    "# accuracy\n",
    "accuracy = (tp + tn) / (tp + tn + fp + fn)\n",
    "print(\"accuracy: \", accuracy)\n",
    "\n",
    "# precision\n",
    "precision = tp/(tp+fp)\n",
    "print(\"precision:\", precision)\n",
    "\n",
    "# recall\n",
    "recall = tp / (tp + fn)\n",
    "print(\"recall:\", recall)\n",
    "\n",
    "# f1\n",
    "f1 = 2 * ((precision * recall) / (precision + recall))\n",
    "print(\"f1:\", f1)\n",
    "\n",
    "# AUC\n",
    "auc = metrics.roc_auc_score(y_true, y_probas)\n",
    "print(\"auc:\", auc)\n",
    "\n"
   ]
  },
  {
   "cell_type": "code",
   "execution_count": 295,
   "metadata": {},
   "outputs": [
    {
     "name": "stdout",
     "output_type": "stream",
     "text": [
      "[[33  8]\n",
      " [ 0 49]]\n"
     ]
    },
    {
     "data": {
      "image/png": "[encoded data removed]",
      "text/plain": [
       "<Figure size 432x288 with 1 Axes>"
      ]
     },
     "metadata": {
      "needs_background": "light"
     },
     "output_type": "display_data"
    },
    {
     "name": "stdout",
     "output_type": "stream",
     "text": [
      "accuracy:  0.9111111111111111\n",
      "precision: 0.8596491228070176\n",
      "recall: 1.0\n",
      "f1: 0.9245283018867925\n",
      "auc: 0.9940268790443006\n"
     ]
    }
   ],
   "source": [
    "# for test set\n",
    "# 1) for test set\n",
    "x = test_idf.toarray()\n",
    "y = test_set.iloc[:,4]\n",
    "\n",
    "\n",
    "y_pred = clf.predict(x)\n",
    "\n",
    "\n",
    "# confusion matrix\n",
    "from sklearn.metrics import confusion_matrix\n",
    "y_true = y\n",
    "\n",
    "\n",
    "confusionMatrix = confusion_matrix(y_true, y_pred)\n",
    "tn, fp, fn, tp = confusion_matrix(y_true, y_pred).ravel()\n",
    "print(confusionMatrix)\n",
    "\n",
    "\n",
    "\n",
    "# ROC curve\n",
    "y_probas = clf.predict_proba(x)\n",
    "y_probas = y_probas[:,1]\n",
    "fpr, tpr, threshold = metrics.roc_curve(y_true, y_probas)\n",
    "roc_auc = metrics.auc(fpr, tpr)\n",
    "\n",
    "plt.plot(fpr, tpr, 'b', label = 'AUC = %0.3f' % roc_auc)\n",
    "plt.legend(loc = 'lower right')\n",
    "plt.plot([0, 1], [0, 1],'r--')\n",
    "\n",
    "plt.ylabel('True Positive Rate')\n",
    "plt.xlabel('False Positive Rate')\n",
    "plt.show()\n",
    "\n",
    "# accuracy\n",
    "accuracy = (tp + tn) / (tp + tn + fp + fn)\n",
    "print(\"accuracy: \", accuracy)\n",
    "\n",
    "# precision\n",
    "precision = tp/(tp+fp)\n",
    "print(\"precision:\", precision)\n",
    "\n",
    "# recall\n",
    "recall = tp / (tp + fn)\n",
    "print(\"recall:\", recall)\n",
    "\n",
    "# f1\n",
    "f1 = 2 * ((precision * recall) / (precision + recall))\n",
    "print(\"f1:\", f1)\n",
    "\n",
    "# AUC\n",
    "auc = metrics.roc_auc_score(y_true, y_probas)\n",
    "print(\"auc:\", auc)\n",
    "\n"
   ]
  },
  {
   "cell_type": "code",
   "execution_count": null,
   "metadata": {},
   "outputs": [],
   "source": []
  }
 ],
 "metadata": {
  "kernelspec": {
   "display_name": "Python 3",
   "language": "python",
   "name": "python3"
  },
  "language_info": {
   "codemirror_mode": {
    "name": "ipython",
    "version": 3
   },
   "file_extension": ".py",
   "mimetype": "text/x-python",
   "name": "python",
   "nbconvert_exporter": "python",
   "pygments_lexer": "ipython3",
   "version": "3.7.4"
  }
 },
 "nbformat": 4,
 "nbformat_minor": 2
}
